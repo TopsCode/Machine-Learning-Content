{
 "cells": [
  {
   "cell_type": "code",
   "execution_count": 90,
   "id": "78e772d8",
   "metadata": {},
   "outputs": [],
   "source": [
    "import pandas as pd"
   ]
  },
  {
   "cell_type": "code",
   "execution_count": 1,
   "id": "61572a2e",
   "metadata": {},
   "outputs": [],
   "source": [
    "import file1"
   ]
  },
  {
   "cell_type": "code",
   "execution_count": 2,
   "id": "4bb804f3",
   "metadata": {},
   "outputs": [
    {
     "name": "stdout",
     "output_type": "stream",
     "text": [
      "Help on module file1:\n",
      "\n",
      "NAME\n",
      "    file1 - this modules contains few function which helps to parse header and values\n",
      "\n",
      "FUNCTIONS\n",
      "    create_item_dict(values, headers)\n",
      "    \n",
      "    parse_headers(header_line)\n",
      "        this function takes string of header and returns list of strings\n",
      "    \n",
      "    parse_values(data_line)\n",
      "    \n",
      "    read_csv(path)\n",
      "\n",
      "FILE\n",
      "    c:\\users\\janvi\\desktop\\data analysis with python\\data_analysis_course\\lesson_3_numerical_computing_with_numpy\\file1.py\n",
      "\n",
      "\n"
     ]
    }
   ],
   "source": [
    "help(file1)"
   ]
  },
  {
   "cell_type": "code",
   "execution_count": 1,
   "id": "9fdf024a",
   "metadata": {},
   "outputs": [],
   "source": [
    "from file1 import parse_headers"
   ]
  },
  {
   "cell_type": "code",
   "execution_count": 3,
   "id": "f3553147",
   "metadata": {},
   "outputs": [],
   "source": [
    "data = ['amount,duration,rate,down_payment\\n',\n",
    " '883000,16,0.14,\\n',\n",
    " ]"
   ]
  },
  {
   "cell_type": "code",
   "execution_count": 4,
   "id": "a50ec59d",
   "metadata": {},
   "outputs": [],
   "source": [
    "header = parse_headers(data[0])"
   ]
  },
  {
   "cell_type": "code",
   "execution_count": 5,
   "id": "91e99170",
   "metadata": {},
   "outputs": [
    {
     "data": {
      "text/plain": [
       "['amount', 'duration', 'rate', 'down_payment']"
      ]
     },
     "execution_count": 5,
     "metadata": {},
     "output_type": "execute_result"
    }
   ],
   "source": [
    "header"
   ]
  },
  {
   "cell_type": "code",
   "execution_count": null,
   "id": "3d8ff99a",
   "metadata": {},
   "outputs": [],
   "source": []
  },
  {
   "cell_type": "code",
   "execution_count": null,
   "id": "7fa5b94b",
   "metadata": {},
   "outputs": [],
   "source": []
  },
  {
   "cell_type": "code",
   "execution_count": null,
   "id": "f164533d",
   "metadata": {},
   "outputs": [],
   "source": []
  },
  {
   "cell_type": "code",
   "execution_count": 91,
   "id": "317dd81e",
   "metadata": {},
   "outputs": [],
   "source": [
    "data = pd.read_csv('/home/logicrays/Downloads/Dividend.csv')"
   ]
  },
  {
   "cell_type": "code",
   "execution_count": 92,
   "id": "01e8e6ae",
   "metadata": {},
   "outputs": [
    {
     "data": {
      "text/html": [
       "<div>\n",
       "<style scoped>\n",
       "    .dataframe tbody tr th:only-of-type {\n",
       "        vertical-align: middle;\n",
       "    }\n",
       "\n",
       "    .dataframe tbody tr th {\n",
       "        vertical-align: top;\n",
       "    }\n",
       "\n",
       "    .dataframe thead th {\n",
       "        text-align: right;\n",
       "    }\n",
       "</style>\n",
       "<table border=\"1\" class=\"dataframe\">\n",
       "  <thead>\n",
       "    <tr style=\"text-align: right;\">\n",
       "      <th></th>\n",
       "      <th>Companies</th>\n",
       "      <th>Sector</th>\n",
       "      <th>Diviend Yield</th>\n",
       "    </tr>\n",
       "  </thead>\n",
       "  <tbody>\n",
       "    <tr>\n",
       "      <th>0</th>\n",
       "      <td>Reliance</td>\n",
       "      <td>Oil</td>\n",
       "      <td>19.00%</td>\n",
       "    </tr>\n",
       "    <tr>\n",
       "      <th>1</th>\n",
       "      <td>TCS</td>\n",
       "      <td>IT</td>\n",
       "      <td>15.00%</td>\n",
       "    </tr>\n",
       "    <tr>\n",
       "      <th>2</th>\n",
       "      <td>Infosys</td>\n",
       "      <td>IT</td>\n",
       "      <td>10.00%</td>\n",
       "    </tr>\n",
       "    <tr>\n",
       "      <th>3</th>\n",
       "      <td>Mphasis</td>\n",
       "      <td>IT</td>\n",
       "      <td>9.00%</td>\n",
       "    </tr>\n",
       "    <tr>\n",
       "      <th>4</th>\n",
       "      <td>GAIL</td>\n",
       "      <td>Oil</td>\n",
       "      <td>9.00%</td>\n",
       "    </tr>\n",
       "  </tbody>\n",
       "</table>\n",
       "</div>"
      ],
      "text/plain": [
       "  Companies Sector Diviend Yield\n",
       "0  Reliance    Oil        19.00%\n",
       "1       TCS     IT        15.00%\n",
       "2   Infosys     IT        10.00%\n",
       "3   Mphasis     IT         9.00%\n",
       "4      GAIL    Oil         9.00%"
      ]
     },
     "execution_count": 92,
     "metadata": {},
     "output_type": "execute_result"
    }
   ],
   "source": [
    "data.head()"
   ]
  },
  {
   "cell_type": "code",
   "execution_count": 93,
   "id": "f405fb73",
   "metadata": {},
   "outputs": [
    {
     "data": {
      "text/html": [
       "<div>\n",
       "<style scoped>\n",
       "    .dataframe tbody tr th:only-of-type {\n",
       "        vertical-align: middle;\n",
       "    }\n",
       "\n",
       "    .dataframe tbody tr th {\n",
       "        vertical-align: top;\n",
       "    }\n",
       "\n",
       "    .dataframe thead th {\n",
       "        text-align: right;\n",
       "    }\n",
       "</style>\n",
       "<table border=\"1\" class=\"dataframe\">\n",
       "  <thead>\n",
       "    <tr style=\"text-align: right;\">\n",
       "      <th></th>\n",
       "      <th>Companies</th>\n",
       "      <th>Sector</th>\n",
       "      <th>Diviend Yield</th>\n",
       "    </tr>\n",
       "  </thead>\n",
       "  <tbody>\n",
       "    <tr>\n",
       "      <th>0</th>\n",
       "      <td>Reliance</td>\n",
       "      <td>Oil</td>\n",
       "      <td>19.00%</td>\n",
       "    </tr>\n",
       "    <tr>\n",
       "      <th>1</th>\n",
       "      <td>TCS</td>\n",
       "      <td>IT</td>\n",
       "      <td>15.00%</td>\n",
       "    </tr>\n",
       "    <tr>\n",
       "      <th>2</th>\n",
       "      <td>Infosys</td>\n",
       "      <td>IT</td>\n",
       "      <td>10.00%</td>\n",
       "    </tr>\n",
       "    <tr>\n",
       "      <th>3</th>\n",
       "      <td>Mphasis</td>\n",
       "      <td>IT</td>\n",
       "      <td>9.00%</td>\n",
       "    </tr>\n",
       "    <tr>\n",
       "      <th>4</th>\n",
       "      <td>GAIL</td>\n",
       "      <td>Oil</td>\n",
       "      <td>9.00%</td>\n",
       "    </tr>\n",
       "    <tr>\n",
       "      <th>5</th>\n",
       "      <td>Asian paints</td>\n",
       "      <td>Consumer goods</td>\n",
       "      <td>6.00%</td>\n",
       "    </tr>\n",
       "    <tr>\n",
       "      <th>6</th>\n",
       "      <td>HDFC Bank</td>\n",
       "      <td>Banking</td>\n",
       "      <td>5.00%</td>\n",
       "    </tr>\n",
       "    <tr>\n",
       "      <th>7</th>\n",
       "      <td>Vedanta</td>\n",
       "      <td>Mining</td>\n",
       "      <td>5.00%</td>\n",
       "    </tr>\n",
       "    <tr>\n",
       "      <th>8</th>\n",
       "      <td>Mahindra &amp; Mahindra</td>\n",
       "      <td>Auto</td>\n",
       "      <td>4.00%</td>\n",
       "    </tr>\n",
       "    <tr>\n",
       "      <th>9</th>\n",
       "      <td>Adani Enterprise</td>\n",
       "      <td>Diversified</td>\n",
       "      <td>4.00%</td>\n",
       "    </tr>\n",
       "    <tr>\n",
       "      <th>10</th>\n",
       "      <td>Bajaj Finance</td>\n",
       "      <td>Finance</td>\n",
       "      <td>4.00%</td>\n",
       "    </tr>\n",
       "    <tr>\n",
       "      <th>11</th>\n",
       "      <td>Indian Oil</td>\n",
       "      <td>Oil</td>\n",
       "      <td>4.00%</td>\n",
       "    </tr>\n",
       "    <tr>\n",
       "      <th>12</th>\n",
       "      <td>ONGC</td>\n",
       "      <td>Oil</td>\n",
       "      <td>3.00%</td>\n",
       "    </tr>\n",
       "    <tr>\n",
       "      <th>13</th>\n",
       "      <td>Coal India</td>\n",
       "      <td>Energy</td>\n",
       "      <td>2.00%</td>\n",
       "    </tr>\n",
       "    <tr>\n",
       "      <th>14</th>\n",
       "      <td>SBI</td>\n",
       "      <td>Banking</td>\n",
       "      <td>1.00%</td>\n",
       "    </tr>\n",
       "  </tbody>\n",
       "</table>\n",
       "</div>"
      ],
      "text/plain": [
       "              Companies          Sector Diviend Yield\n",
       "0              Reliance             Oil        19.00%\n",
       "1                   TCS              IT        15.00%\n",
       "2               Infosys              IT        10.00%\n",
       "3               Mphasis              IT         9.00%\n",
       "4                  GAIL             Oil         9.00%\n",
       "5          Asian paints  Consumer goods         6.00%\n",
       "6             HDFC Bank         Banking         5.00%\n",
       "7               Vedanta          Mining         5.00%\n",
       "8   Mahindra & Mahindra            Auto         4.00%\n",
       "9      Adani Enterprise     Diversified         4.00%\n",
       "10        Bajaj Finance         Finance         4.00%\n",
       "11           Indian Oil             Oil         4.00%\n",
       "12                 ONGC             Oil         3.00%\n",
       "13           Coal India          Energy         2.00%\n",
       "14                  SBI         Banking         1.00%"
      ]
     },
     "execution_count": 93,
     "metadata": {},
     "output_type": "execute_result"
    }
   ],
   "source": [
    "data"
   ]
  },
  {
   "cell_type": "code",
   "execution_count": 94,
   "id": "18f87f93",
   "metadata": {},
   "outputs": [
    {
     "name": "stderr",
     "output_type": "stream",
     "text": [
      "/tmp/ipykernel_21076/3659599805.py:1: SettingWithCopyWarning: \n",
      "A value is trying to be set on a copy of a slice from a DataFrame.\n",
      "Try using .loc[row_indexer,col_indexer] = value instead\n",
      "\n",
      "See the caveats in the documentation: https://pandas.pydata.org/pandas-docs/stable/user_guide/indexing.html#returning-a-view-versus-a-copy\n",
      "  oil_data['dividend'] = pd.to_numeric(oil_data['Diviend Yield'])\n"
     ]
    }
   ],
   "source": [
    "oil_data['dividend'] = pd.to_numeric(oil_data['Diviend Yield'])"
   ]
  },
  {
   "cell_type": "code",
   "execution_count": 95,
   "id": "fa47e241",
   "metadata": {},
   "outputs": [
    {
     "name": "stderr",
     "output_type": "stream",
     "text": [
      "/tmp/ipykernel_21076/169370609.py:1: SettingWithCopyWarning: \n",
      "A value is trying to be set on a copy of a slice from a DataFrame.\n",
      "Try using .loc[row_indexer,col_indexer] = value instead\n",
      "\n",
      "See the caveats in the documentation: https://pandas.pydata.org/pandas-docs/stable/user_guide/indexing.html#returning-a-view-versus-a-copy\n",
      "  oil_data['sum'] = oil_data.dividend.sum()\n"
     ]
    }
   ],
   "source": [
    "oil_data['sum'] = oil_data.dividend.sum()"
   ]
  },
  {
   "cell_type": "code",
   "execution_count": 96,
   "id": "57b0b054",
   "metadata": {},
   "outputs": [],
   "source": [
    "def clean_data(df):\n",
    "    df['Diviend Yield'] = df['Diviend Yield'].str.replace('%', '')\n",
    "    return df"
   ]
  },
  {
   "cell_type": "code",
   "execution_count": 97,
   "id": "c31fb444",
   "metadata": {},
   "outputs": [],
   "source": [
    "def convert_numeric(df):\n",
    "    df['Diviend Yield'] = pd.to_numeric(df['Diviend Yield'])\n",
    "    return df"
   ]
  },
  {
   "cell_type": "code",
   "execution_count": 98,
   "id": "37cfea22",
   "metadata": {},
   "outputs": [],
   "source": [
    "def calculate_sum(df):\n",
    "    df['sum'] = df['Diviend Yield'].sum()\n",
    "    return df"
   ]
  },
  {
   "cell_type": "code",
   "execution_count": 107,
   "id": "12bf5ba5",
   "metadata": {},
   "outputs": [],
   "source": [
    "# def calculate_sum_sector(df, sector):\n",
    "#     df['sum'] = df[df['Sector'] == sector]['Diviend Yield'].sum()\n",
    "#     return df"
   ]
  },
  {
   "cell_type": "code",
   "execution_count": 125,
   "id": "69dd23bb",
   "metadata": {},
   "outputs": [
    {
     "name": "stdout",
     "output_type": "stream",
     "text": [
      "Object `sort` not found.\n"
     ]
    }
   ],
   "source": [
    "data.groupby('Sector').sum()"
   ]
  },
  {
   "cell_type": "code",
   "execution_count": 129,
   "id": "78ac3e78",
   "metadata": {},
   "outputs": [],
   "source": [
    "filtered_data = data.groupby('Sector').sum().sort_values(by=['Diviend Yield'], ascending=False)"
   ]
  },
  {
   "cell_type": "code",
   "execution_count": 101,
   "id": "3619aa4a",
   "metadata": {},
   "outputs": [],
   "source": [
    "data = clean_data(data)\n",
    "# data = convert_numeric(data)\n",
    "# data = calculate_sum(data)"
   ]
  },
  {
   "cell_type": "code",
   "execution_count": 102,
   "id": "1c744674",
   "metadata": {},
   "outputs": [],
   "source": [
    "data = convert_numeric(data)"
   ]
  },
  {
   "cell_type": "code",
   "execution_count": 112,
   "id": "d9842412",
   "metadata": {},
   "outputs": [],
   "source": [
    "# sector_list = list(data.Sector.unique())"
   ]
  },
  {
   "cell_type": "code",
   "execution_count": null,
   "id": "b35224f4",
   "metadata": {},
   "outputs": [],
   "source": [
    "# for sector in sector"
   ]
  },
  {
   "cell_type": "code",
   "execution_count": 83,
   "id": "6cb06464",
   "metadata": {},
   "outputs": [],
   "source": [
    "data = calculate_sum_sector(data)"
   ]
  },
  {
   "cell_type": "code",
   "execution_count": 126,
   "id": "1d06be49",
   "metadata": {},
   "outputs": [
    {
     "data": {
      "text/html": [
       "<div>\n",
       "<style scoped>\n",
       "    .dataframe tbody tr th:only-of-type {\n",
       "        vertical-align: middle;\n",
       "    }\n",
       "\n",
       "    .dataframe tbody tr th {\n",
       "        vertical-align: top;\n",
       "    }\n",
       "\n",
       "    .dataframe thead th {\n",
       "        text-align: right;\n",
       "    }\n",
       "</style>\n",
       "<table border=\"1\" class=\"dataframe\">\n",
       "  <thead>\n",
       "    <tr style=\"text-align: right;\">\n",
       "      <th></th>\n",
       "      <th>Companies</th>\n",
       "      <th>Sector</th>\n",
       "      <th>Diviend Yield</th>\n",
       "      <th>Diviend</th>\n",
       "    </tr>\n",
       "  </thead>\n",
       "  <tbody>\n",
       "    <tr>\n",
       "      <th>0</th>\n",
       "      <td>Reliance</td>\n",
       "      <td>Oil</td>\n",
       "      <td>19.0</td>\n",
       "      <td>NaN</td>\n",
       "    </tr>\n",
       "    <tr>\n",
       "      <th>1</th>\n",
       "      <td>TCS</td>\n",
       "      <td>IT</td>\n",
       "      <td>15.0</td>\n",
       "      <td>NaN</td>\n",
       "    </tr>\n",
       "    <tr>\n",
       "      <th>2</th>\n",
       "      <td>Infosys</td>\n",
       "      <td>IT</td>\n",
       "      <td>10.0</td>\n",
       "      <td>NaN</td>\n",
       "    </tr>\n",
       "    <tr>\n",
       "      <th>3</th>\n",
       "      <td>Mphasis</td>\n",
       "      <td>IT</td>\n",
       "      <td>9.0</td>\n",
       "      <td>NaN</td>\n",
       "    </tr>\n",
       "    <tr>\n",
       "      <th>4</th>\n",
       "      <td>GAIL</td>\n",
       "      <td>Oil</td>\n",
       "      <td>9.0</td>\n",
       "      <td>NaN</td>\n",
       "    </tr>\n",
       "    <tr>\n",
       "      <th>5</th>\n",
       "      <td>Asian paints</td>\n",
       "      <td>Consumer goods</td>\n",
       "      <td>6.0</td>\n",
       "      <td>NaN</td>\n",
       "    </tr>\n",
       "    <tr>\n",
       "      <th>6</th>\n",
       "      <td>HDFC Bank</td>\n",
       "      <td>Banking</td>\n",
       "      <td>5.0</td>\n",
       "      <td>NaN</td>\n",
       "    </tr>\n",
       "    <tr>\n",
       "      <th>7</th>\n",
       "      <td>Vedanta</td>\n",
       "      <td>Mining</td>\n",
       "      <td>5.0</td>\n",
       "      <td>NaN</td>\n",
       "    </tr>\n",
       "    <tr>\n",
       "      <th>8</th>\n",
       "      <td>Mahindra &amp; Mahindra</td>\n",
       "      <td>Auto</td>\n",
       "      <td>4.0</td>\n",
       "      <td>NaN</td>\n",
       "    </tr>\n",
       "    <tr>\n",
       "      <th>9</th>\n",
       "      <td>Adani Enterprise</td>\n",
       "      <td>Diversified</td>\n",
       "      <td>4.0</td>\n",
       "      <td>NaN</td>\n",
       "    </tr>\n",
       "    <tr>\n",
       "      <th>10</th>\n",
       "      <td>Bajaj Finance</td>\n",
       "      <td>Finance</td>\n",
       "      <td>4.0</td>\n",
       "      <td>NaN</td>\n",
       "    </tr>\n",
       "    <tr>\n",
       "      <th>11</th>\n",
       "      <td>Indian Oil</td>\n",
       "      <td>Oil</td>\n",
       "      <td>4.0</td>\n",
       "      <td>NaN</td>\n",
       "    </tr>\n",
       "    <tr>\n",
       "      <th>12</th>\n",
       "      <td>ONGC</td>\n",
       "      <td>Oil</td>\n",
       "      <td>3.0</td>\n",
       "      <td>NaN</td>\n",
       "    </tr>\n",
       "    <tr>\n",
       "      <th>13</th>\n",
       "      <td>Coal India</td>\n",
       "      <td>Energy</td>\n",
       "      <td>2.0</td>\n",
       "      <td>NaN</td>\n",
       "    </tr>\n",
       "    <tr>\n",
       "      <th>14</th>\n",
       "      <td>SBI</td>\n",
       "      <td>Banking</td>\n",
       "      <td>1.0</td>\n",
       "      <td>NaN</td>\n",
       "    </tr>\n",
       "  </tbody>\n",
       "</table>\n",
       "</div>"
      ],
      "text/plain": [
       "              Companies          Sector  Diviend Yield  Diviend\n",
       "0              Reliance             Oil           19.0      NaN\n",
       "1                   TCS              IT           15.0      NaN\n",
       "2               Infosys              IT           10.0      NaN\n",
       "3               Mphasis              IT            9.0      NaN\n",
       "4                  GAIL             Oil            9.0      NaN\n",
       "5          Asian paints  Consumer goods            6.0      NaN\n",
       "6             HDFC Bank         Banking            5.0      NaN\n",
       "7               Vedanta          Mining            5.0      NaN\n",
       "8   Mahindra & Mahindra            Auto            4.0      NaN\n",
       "9      Adani Enterprise     Diversified            4.0      NaN\n",
       "10        Bajaj Finance         Finance            4.0      NaN\n",
       "11           Indian Oil             Oil            4.0      NaN\n",
       "12                 ONGC             Oil            3.0      NaN\n",
       "13           Coal India          Energy            2.0      NaN\n",
       "14                  SBI         Banking            1.0      NaN"
      ]
     },
     "execution_count": 126,
     "metadata": {},
     "output_type": "execute_result"
    }
   ],
   "source": [
    "data"
   ]
  },
  {
   "cell_type": "code",
   "execution_count": 130,
   "id": "d9b7aa82",
   "metadata": {},
   "outputs": [
    {
     "data": {
      "text/html": [
       "<div>\n",
       "<style scoped>\n",
       "    .dataframe tbody tr th:only-of-type {\n",
       "        vertical-align: middle;\n",
       "    }\n",
       "\n",
       "    .dataframe tbody tr th {\n",
       "        vertical-align: top;\n",
       "    }\n",
       "\n",
       "    .dataframe thead th {\n",
       "        text-align: right;\n",
       "    }\n",
       "</style>\n",
       "<table border=\"1\" class=\"dataframe\">\n",
       "  <thead>\n",
       "    <tr style=\"text-align: right;\">\n",
       "      <th></th>\n",
       "      <th>Diviend Yield</th>\n",
       "      <th>Diviend</th>\n",
       "    </tr>\n",
       "    <tr>\n",
       "      <th>Sector</th>\n",
       "      <th></th>\n",
       "      <th></th>\n",
       "    </tr>\n",
       "  </thead>\n",
       "  <tbody>\n",
       "    <tr>\n",
       "      <th>Oil</th>\n",
       "      <td>35.0</td>\n",
       "      <td>0.0</td>\n",
       "    </tr>\n",
       "    <tr>\n",
       "      <th>IT</th>\n",
       "      <td>34.0</td>\n",
       "      <td>0.0</td>\n",
       "    </tr>\n",
       "    <tr>\n",
       "      <th>Banking</th>\n",
       "      <td>6.0</td>\n",
       "      <td>0.0</td>\n",
       "    </tr>\n",
       "    <tr>\n",
       "      <th>Consumer goods</th>\n",
       "      <td>6.0</td>\n",
       "      <td>0.0</td>\n",
       "    </tr>\n",
       "    <tr>\n",
       "      <th>Mining</th>\n",
       "      <td>5.0</td>\n",
       "      <td>0.0</td>\n",
       "    </tr>\n",
       "    <tr>\n",
       "      <th>Auto</th>\n",
       "      <td>4.0</td>\n",
       "      <td>0.0</td>\n",
       "    </tr>\n",
       "    <tr>\n",
       "      <th>Diversified</th>\n",
       "      <td>4.0</td>\n",
       "      <td>0.0</td>\n",
       "    </tr>\n",
       "    <tr>\n",
       "      <th>Finance</th>\n",
       "      <td>4.0</td>\n",
       "      <td>0.0</td>\n",
       "    </tr>\n",
       "    <tr>\n",
       "      <th>Energy</th>\n",
       "      <td>2.0</td>\n",
       "      <td>0.0</td>\n",
       "    </tr>\n",
       "  </tbody>\n",
       "</table>\n",
       "</div>"
      ],
      "text/plain": [
       "                Diviend Yield  Diviend\n",
       "Sector                                \n",
       "Oil                      35.0      0.0\n",
       "IT                       34.0      0.0\n",
       "Banking                   6.0      0.0\n",
       "Consumer goods            6.0      0.0\n",
       "Mining                    5.0      0.0\n",
       "Auto                      4.0      0.0\n",
       "Diversified               4.0      0.0\n",
       "Finance                   4.0      0.0\n",
       "Energy                    2.0      0.0"
      ]
     },
     "execution_count": 130,
     "metadata": {},
     "output_type": "execute_result"
    }
   ],
   "source": [
    "filtered_data"
   ]
  },
  {
   "cell_type": "code",
   "execution_count": null,
   "id": "1429b426",
   "metadata": {},
   "outputs": [],
   "source": []
  }
 ],
 "metadata": {
  "kernelspec": {
   "display_name": "Python 3 (ipykernel)",
   "language": "python",
   "name": "python3"
  },
  "language_info": {
   "codemirror_mode": {
    "name": "ipython",
    "version": 3
   },
   "file_extension": ".py",
   "mimetype": "text/x-python",
   "name": "python",
   "nbconvert_exporter": "python",
   "pygments_lexer": "ipython3",
   "version": "3.9.12"
  }
 },
 "nbformat": 4,
 "nbformat_minor": 5
}

{
 "cells": [
  {
   "cell_type": "markdown",
   "metadata": {},
   "source": [
    "## Creating and using functions\n",
    "\n",
    "A function is a reusable set of instructions. A function takes one or more inputs, performs certain operations, and often returns an output. Python provides many in-built functions like `print`, and also allows you to define your own functions."
   ]
  },
  {
   "cell_type": "code",
   "execution_count": null,
   "metadata": {},
   "outputs": [],
   "source": [
    "today = \"Saturday\"\n",
    "print(\"Today is\", today)"
   ]
  },
  {
   "cell_type": "code",
   "execution_count": null,
   "metadata": {},
   "outputs": [],
   "source": [
    "help(print)"
   ]
  },
  {
   "cell_type": "markdown",
   "metadata": {},
   "source": [
    "You can define a new function using the `def` keyword."
   ]
  },
  {
   "cell_type": "code",
   "execution_count": null,
   "metadata": {},
   "outputs": [],
   "source": [
    "def say_hi():\n",
    "    print(\"Hello , there\")"
   ]
  },
  {
   "cell_type": "code",
   "execution_count": null,
   "metadata": {},
   "outputs": [],
   "source": [
    "say_hi()"
   ]
  },
  {
   "cell_type": "code",
   "execution_count": null,
   "metadata": {},
   "outputs": [],
   "source": [
    "def say_hello():\n",
    "    print('Hello there!')\n",
    "    print('How are you?')"
   ]
  },
  {
   "cell_type": "markdown",
   "metadata": {},
   "source": [
    "Note the round brackets or parantheses `()` and colon `:` after the function's name. Both are essential parts of the syntax for defining a function. The *body* of the function can contain one or more statements which are to be executed when the function is called. Simlar to conditional statements and loops, the statements must be indented by 4 spaces.\n",
    "\n",
    "The statements inside a function's body are not executed when a function is defined. To execute the statements, we need to *call* or *invoke* the function."
   ]
  },
  {
   "cell_type": "code",
   "execution_count": null,
   "metadata": {},
   "outputs": [],
   "source": [
    "for i in range(5):\n",
    "    say_hello()"
   ]
  },
  {
   "cell_type": "markdown",
   "metadata": {},
   "source": [
    "### Function arguments\n",
    "\n",
    "Functions can also accept one or more values as *inputs* (also knows as *arguments* or *parameters*). Arguments help us write flexible functions which can perform the same operation on different values. Further, functions can also return a value as a result using the `return` keyword, which can be stored in a variable or used in other expressions.\n",
    "\n",
    "Here's a function that filters out the even numbers from a list."
   ]
  },
  {
   "cell_type": "code",
   "execution_count": null,
   "metadata": {},
   "outputs": [],
   "source": [
    "a = 112\n",
    "b = 345\n",
    "\n",
    "def say_hello(a, b):\n",
    "    print(a)\n",
    "    print(b)"
   ]
  },
  {
   "cell_type": "code",
   "execution_count": null,
   "metadata": {},
   "outputs": [],
   "source": [
    "say_hello(a, b)"
   ]
  },
  {
   "cell_type": "code",
   "execution_count": null,
   "metadata": {},
   "outputs": [],
   "source": [
    "say_hello('god', 'human')"
   ]
  },
  {
   "cell_type": "code",
   "execution_count": null,
   "metadata": {},
   "outputs": [],
   "source": [
    "say_hello(b ='foo', a= 'jojo')"
   ]
  },
  {
   "cell_type": "code",
   "execution_count": null,
   "metadata": {},
   "outputs": [],
   "source": [
    "say_hello(a, b)"
   ]
  },
  {
   "cell_type": "code",
   "execution_count": null,
   "metadata": {},
   "outputs": [],
   "source": [
    "def add_num(a, b):\n",
    "    c = a + b\n",
    "    return(c)"
   ]
  },
  {
   "cell_type": "code",
   "execution_count": null,
   "metadata": {},
   "outputs": [],
   "source": [
    "a = add_num(4, 5)"
   ]
  },
  {
   "cell_type": "code",
   "execution_count": null,
   "metadata": {},
   "outputs": [],
   "source": [
    "print(a)"
   ]
  },
  {
   "cell_type": "code",
   "execution_count": null,
   "metadata": {},
   "outputs": [],
   "source": [
    "# number_list = list(range(10))\n",
    "# result_list = []\n",
    "# for number in number_list:\n",
    "#     if number % 2 == 0:\n",
    "#         result_list.append(number)\n",
    "            \n",
    "# print(result_list)"
   ]
  },
  {
   "cell_type": "code",
   "execution_count": null,
   "metadata": {},
   "outputs": [],
   "source": [
    "# def filter_even(number_list):\n",
    "#     result_list = []\n",
    "#     for number in number_list:\n",
    "#         if number % 2 == 0:\n",
    "#             result_list.append(number)\n",
    "#     return result_list"
   ]
  },
  {
   "cell_type": "markdown",
   "metadata": {},
   "source": [
    "Can you understand what the function does by looking at the code? If not, try to execute each line of the function within a code cell with a list of numbers as `number_list`."
   ]
  },
  {
   "cell_type": "code",
   "execution_count": null,
   "metadata": {},
   "outputs": [],
   "source": [
    "# even_list = filter_even([1, 2, 3, 4, 5, 6, 7])"
   ]
  },
  {
   "cell_type": "code",
   "execution_count": null,
   "metadata": {},
   "outputs": [],
   "source": [
    "# even_list"
   ]
  },
  {
   "cell_type": "markdown",
   "metadata": {},
   "source": [
    "## Writing great functions in Python\n",
    "\n",
    "As a programmer, you will spend most of your time writing and using functions, and Python offers many features to make your functions powerful and flexible. Let's explore some of these by solving a problem:\n",
    "\n",
    "> Radha is planning to buy a house that costs `$1,260,000`. She considering two options to finance her purchase:\n",
    ">\n",
    "> * Option 1: Make an immediate down payment of `$300,000`, and take loan 8-year loan with an interest rate of 10% per annum (compounded monthly) for the remaining amount.\n",
    "> * Option 2: Take a 10-year loan with an interest rate of 8% per annum (compounded monthly) for the entire amount.\n",
    ">\n",
    "> Both these loans have to paid back in equal monthly installments (EMIs). Which loan has a lower EMI among the two?\n",
    "\n",
    "\n",
    "Since we need to compare the EMIs for two loan options, it might be helpful to define a function to calculate the EMI for a loan, given inputs like the cost of the house, the down payment, duration of the loan, rate of interest etc. We'll build this function step by step.\n",
    "\n",
    "To begin, let's write a simple function that calculates the EMI on the entire cost of the house, assuming that the loan has to be paid back in one year, and there is no interest or down payment."
   ]
  },
  {
   "cell_type": "code",
   "execution_count": null,
   "metadata": {},
   "outputs": [],
   "source": [
    "amount = 1260000\n",
    "down_payment = 300000\n",
    "interest1 = .1\n",
    "interest2 = .8"
   ]
  },
  {
   "cell_type": "code",
   "execution_count": null,
   "metadata": {},
   "outputs": [],
   "source": [
    "emi1 = ((amount - down_payment)/12) * interest1\n",
    "print(emi1)"
   ]
  },
  {
   "cell_type": "code",
   "execution_count": null,
   "metadata": {},
   "outputs": [],
   "source": [
    "def loan_emi(amount):\n",
    "    emi = amount / 12\n",
    "    print(f'The EMI is ${emi}')"
   ]
  },
  {
   "cell_type": "code",
   "execution_count": null,
   "metadata": {},
   "outputs": [],
   "source": [
    "loan_emi(1260000)"
   ]
  },
  {
   "cell_type": "code",
   "execution_count": null,
   "metadata": {},
   "outputs": [],
   "source": [
    "loan_emi(500000)"
   ]
  },
  {
   "cell_type": "markdown",
   "metadata": {},
   "source": [
    "### Local variables and scope\n",
    "\n",
    "Let's add a second argument to account for the duration of the loan, in months."
   ]
  },
  {
   "cell_type": "code",
   "execution_count": null,
   "metadata": {},
   "outputs": [],
   "source": [
    "def loan_emi(amount, duration):\n",
    "    emi = amount / duration\n",
    "    print('The EMI is ${}'.format(emi))"
   ]
  },
  {
   "cell_type": "markdown",
   "metadata": {},
   "source": [
    "Note that the variable `emi` defined inside the function is not accessible outside the function. The same is true for the parameters `amount` and `duration`. These are all *local variables* that lie within the *scope* of the function.\n",
    "\n",
    "> **Scope**: Scope refers to the region within the code where a certain variable is visible. Every function (or class definition) defines a scope within Python. Variables defined in this scope are called *local variables*. Variables that are available everywhere are called *global variables*. Scope rules allow you to use the same variable names in different functions without sharing values from one to the other. "
   ]
  },
  {
   "cell_type": "code",
   "execution_count": null,
   "metadata": {},
   "outputs": [],
   "source": [
    "loan_emi(120000, 12)"
   ]
  },
  {
   "cell_type": "code",
   "execution_count": null,
   "metadata": {},
   "outputs": [],
   "source": [
    "emi"
   ]
  },
  {
   "cell_type": "code",
   "execution_count": null,
   "metadata": {},
   "outputs": [],
   "source": [
    "amount"
   ]
  },
  {
   "cell_type": "code",
   "execution_count": null,
   "metadata": {},
   "outputs": [],
   "source": [
    "duration"
   ]
  },
  {
   "cell_type": "markdown",
   "metadata": {},
   "source": [
    "We can now compare a 8-year loan vs. a 10-year loan (assuming no down payment or interest)."
   ]
  },
  {
   "cell_type": "code",
   "execution_count": null,
   "metadata": {},
   "outputs": [],
   "source": [
    "loan_emi(1260000, 8*12)"
   ]
  },
  {
   "cell_type": "code",
   "execution_count": null,
   "metadata": {
    "scrolled": true
   },
   "outputs": [],
   "source": [
    "loan_emi(1260000, 10*12)"
   ]
  },
  {
   "cell_type": "markdown",
   "metadata": {},
   "source": [
    "### Return values\n",
    "\n",
    "As you might expect, the EMI for the 8-year loan is higher compared to the 10-year loan. Right now we're printing out the result, but it would be better to return it and store the results in variables for easier comparison. We can do this using the `return` statement"
   ]
  },
  {
   "cell_type": "code",
   "execution_count": null,
   "metadata": {},
   "outputs": [],
   "source": [
    "def loan_emi(amount, duration):\n",
    "    emi = amount / duration\n",
    "    return emi"
   ]
  },
  {
   "cell_type": "code",
   "execution_count": null,
   "metadata": {},
   "outputs": [],
   "source": [
    "loan_emi(1260000, 8*12)"
   ]
  },
  {
   "cell_type": "code",
   "execution_count": null,
   "metadata": {},
   "outputs": [],
   "source": [
    "emi1 = loan_emi(1260000, 8*12)"
   ]
  },
  {
   "cell_type": "code",
   "execution_count": null,
   "metadata": {},
   "outputs": [],
   "source": [
    "emi2 = loan_emi(1260000, 10*12)"
   ]
  },
  {
   "cell_type": "code",
   "execution_count": null,
   "metadata": {
    "scrolled": true
   },
   "outputs": [],
   "source": [
    "print(emi1)"
   ]
  },
  {
   "cell_type": "code",
   "execution_count": null,
   "metadata": {},
   "outputs": [],
   "source": [
    "emi2"
   ]
  },
  {
   "cell_type": "markdown",
   "metadata": {},
   "source": [
    "### Optional arguments\n",
    "\n",
    "Let's now add another argument to account for the immediate down payment. We'll make this an *optional argument*, with a default value of 0."
   ]
  },
  {
   "cell_type": "code",
   "execution_count": null,
   "metadata": {},
   "outputs": [],
   "source": [
    "def loan_emi(amount, duration, down_payment=0):\n",
    "    loan_amount = amount - down_payment\n",
    "    emi = loan_amount / duration\n",
    "    return emi"
   ]
  },
  {
   "cell_type": "code",
   "execution_count": null,
   "metadata": {},
   "outputs": [],
   "source": [
    "help(loan_emi)"
   ]
  },
  {
   "cell_type": "code",
   "execution_count": null,
   "metadata": {
    "scrolled": true
   },
   "outputs": [],
   "source": [
    "3e5  # 3 x 10^5"
   ]
  },
  {
   "cell_type": "code",
   "execution_count": null,
   "metadata": {},
   "outputs": [],
   "source": [
    "emi1 = loan_emi(1260000, 8*12, down_payment=3e5)"
   ]
  },
  {
   "cell_type": "code",
   "execution_count": null,
   "metadata": {},
   "outputs": [],
   "source": [
    "emi1"
   ]
  },
  {
   "cell_type": "code",
   "execution_count": null,
   "metadata": {},
   "outputs": [],
   "source": [
    "emi2 = loan_emi(1260000, 10*12)"
   ]
  },
  {
   "cell_type": "code",
   "execution_count": null,
   "metadata": {},
   "outputs": [],
   "source": [
    "emi2"
   ]
  },
  {
   "cell_type": "markdown",
   "metadata": {},
   "source": [
    "Next, let's add the interest calculation into the function. Here's the formula used to calculate the EMI for a loan:\n",
    "\n",
    "<img src=\"https://i.imgur.com/iKujHGK.png\" style=\"width:240px\">\n",
    "\n",
    "where:\n",
    "\n",
    "* `P` is the loan amount (principal)\n",
    "* `n` is the no. of months\n",
    "* `r` is the rate of interest per month\n",
    "\n",
    "The derivation of this forumula is beyond the scope of this tutorial. See this video for an explanation: https://youtu.be/Coxza9ugW4E"
   ]
  },
  {
   "cell_type": "code",
   "execution_count": 2,
   "metadata": {},
   "outputs": [
    {
     "name": "stdout",
     "output_type": "stream",
     "text": [
      "Overwriting loan.py\n"
     ]
    }
   ],
   "source": [
    "%%file loan.py\n",
    "\n",
    "def loan_emi(amount, duration, rate, down_payment=0):\n",
    "    loan_amount = amount - down_payment\n",
    "    emi = loan_amount * rate * ((1+rate)**duration) / (((1+rate)**duration)-1)\n",
    "    return emi"
   ]
  },
  {
   "cell_type": "markdown",
   "metadata": {},
   "source": [
    "Note that while defining the function, required arguments like `cost`, `duration` and `rate` must appear before optional arguments like `down_payment`.\n",
    "\n",
    "Let's calculate the EMI for Option 1"
   ]
  },
  {
   "cell_type": "code",
   "execution_count": 4,
   "metadata": {},
   "outputs": [],
   "source": [
    "from loan import loan_emi"
   ]
  },
  {
   "cell_type": "code",
   "execution_count": 5,
   "metadata": {
    "scrolled": true
   },
   "outputs": [
    {
     "data": {
      "text/plain": [
       "14567.19753389219"
      ]
     },
     "execution_count": 5,
     "metadata": {},
     "output_type": "execute_result"
    }
   ],
   "source": [
    "loan_emi(1260000, 8*12, 0.1/12, 3e5)"
   ]
  },
  {
   "cell_type": "markdown",
   "metadata": {},
   "source": [
    "While calculating the EMI for Option 2, we need not include the `down_payment` argument."
   ]
  },
  {
   "cell_type": "code",
   "execution_count": null,
   "metadata": {},
   "outputs": [],
   "source": [
    "loan_emi(1260000, 10*12, 0.08/12)"
   ]
  },
  {
   "cell_type": "markdown",
   "metadata": {},
   "source": [
    "### Named arguments\n",
    "\n",
    "Invoking a function with many arguments can often get confusing, and is prone to human errors. Python provides the option of invoking functions with *named* arguments, for better clarity. Function invocation can also be split into multiple lines."
   ]
  },
  {
   "cell_type": "code",
   "execution_count": null,
   "metadata": {},
   "outputs": [],
   "source": [
    "emi1 = loan_emi(\n",
    "    amount=1260000, \n",
    "    duration=8*12, \n",
    "    rate=0.1/12, \n",
    "    down_payment=3e5\n",
    ")"
   ]
  },
  {
   "cell_type": "code",
   "execution_count": null,
   "metadata": {},
   "outputs": [],
   "source": [
    "emi1"
   ]
  },
  {
   "cell_type": "code",
   "execution_count": null,
   "metadata": {},
   "outputs": [],
   "source": [
    "emi2 = loan_emi(amount=1260000, duration=10*12, rate=0.08/12)"
   ]
  },
  {
   "cell_type": "code",
   "execution_count": null,
   "metadata": {},
   "outputs": [],
   "source": [
    "emi2"
   ]
  },
  {
   "cell_type": "code",
   "execution_count": null,
   "metadata": {},
   "outputs": [],
   "source": [
    "# loan_emi?"
   ]
  },
  {
   "cell_type": "markdown",
   "metadata": {},
   "source": [
    "### Modules and library functions\n",
    "\n",
    "We can already see that the EMI for Option 1 seems to be lower than the EMI for Option 2. However, it would be nice to round up the amount to full dollars, rather than including digits after the decimal. To achieve this, we might want to write a function which can take a number and round it up to the next integer (e.g. 1.2 is rounded up to 2). That would be a good exercise to try out!\n",
    "\n",
    "However, since rounding numbers is a fairly common operation, Python provides a function for it (along with thousands of other functions) as part of the [Python Standard Library](https://docs.python.org/3/library/). Functions are organized into *modules*, which need to imported in order to use the functions they contain. \n",
    "\n",
    "> **Modules**: Modules are files containing Python code (variables, functions, classes etc.). They provide a way of organizing the code for large Python projects into files and folders. The key benefit offered by modules is *namespaces* - a module or a specific function/class/variable from a module has to be imported before it can be used within a Python script or notebook. This provides *encapsulation* and avoid naming conflicts between your code vs. a module, or across modules.\n",
    "\n",
    "For rounding up our EMI amounts, we can use the `ceil` function (short for *ceiling*) from the `math` module. Let's import the module and use it to round up the number 1.2 . "
   ]
  },
  {
   "cell_type": "code",
   "execution_count": null,
   "metadata": {},
   "outputs": [],
   "source": [
    "import math"
   ]
  },
  {
   "cell_type": "code",
   "execution_count": null,
   "metadata": {},
   "outputs": [],
   "source": [
    "help(math)"
   ]
  },
  {
   "cell_type": "code",
   "execution_count": null,
   "metadata": {},
   "outputs": [],
   "source": [
    "help(math.ceil)"
   ]
  },
  {
   "cell_type": "code",
   "execution_count": null,
   "metadata": {},
   "outputs": [],
   "source": [
    "math.ceil(1.3)"
   ]
  },
  {
   "cell_type": "markdown",
   "metadata": {},
   "source": [
    "Let's now use the `math.ceil` function within the `home_loan_emi` function to round up the EMI amount. \n",
    "\n",
    "> Using function to build other functions is a great way to reuse code and implement complex business logic while still keeping the code small, understandable and manageable. Ideally, one function should do one thing, and one thing only. If you find yourself doing too many things within a single function, you should consider splitting it into 2 or more smaller, independent functions. As a rule of thumb, try to limit your functions to 10 lines of code or less. Good programmers always write small, simple and readable functions.\n",
    "\n"
   ]
  },
  {
   "cell_type": "code",
   "execution_count": null,
   "metadata": {},
   "outputs": [],
   "source": [
    "def loan_emi(amount, duration, rate, down_payment=0):\n",
    "    loan_amount = amount - down_payment\n",
    "    emi = loan_amount * rate * ((1+rate)**duration) / (((1+rate)**duration)-1)\n",
    "    emi = math.ceil(emi)\n",
    "    return emi"
   ]
  },
  {
   "cell_type": "code",
   "execution_count": null,
   "metadata": {},
   "outputs": [],
   "source": [
    "emi1 = loan_emi(\n",
    "    amount=1260000, \n",
    "    duration=8*12, \n",
    "    rate=0.1/12, \n",
    "    down_payment=3e5\n",
    ")"
   ]
  },
  {
   "cell_type": "code",
   "execution_count": null,
   "metadata": {},
   "outputs": [],
   "source": [
    "emi1"
   ]
  },
  {
   "cell_type": "code",
   "execution_count": null,
   "metadata": {},
   "outputs": [],
   "source": [
    "emi2 = loan_emi(amount=1260000, duration=10*12, rate=0.08/12)"
   ]
  },
  {
   "cell_type": "code",
   "execution_count": null,
   "metadata": {},
   "outputs": [],
   "source": [
    "emi2"
   ]
  },
  {
   "cell_type": "markdown",
   "metadata": {},
   "source": [
    "Let's compare the EMIs and display a message for the option with the lower EMI."
   ]
  },
  {
   "cell_type": "code",
   "execution_count": null,
   "metadata": {},
   "outputs": [],
   "source": [
    "if emi1 < emi2:\n",
    "    print(\"Option 1 has the lower EMI: ${}\".format(emi1))\n",
    "else:\n",
    "    print(\"Option 2 has the lower EMI: ${}\".format(emi2))"
   ]
  },
  {
   "cell_type": "markdown",
   "metadata": {},
   "source": [
    "### Reusing and improving functions \n",
    "\n",
    "Now we know for cetain that \"Option 1\" has the lower EMI among the two options. But what's even better is that we now have a handy function `loan_emi` that can be used to solve many other similar problems with just a few lines of code. Let's try it with a couple more problems."
   ]
  },
  {
   "cell_type": "markdown",
   "metadata": {},
   "source": [
    "> Q: Shaun is currenly paying back a home loan for a house a few years go. The cost of the house was `$800,000`. Shaun made a down payment of `25%` of the cost, and financed the remaining amount using a 6-year loan with an interest rate of `7%` per annum (compounded monthly). Shaun is now buying a car worth `$60,000`, which he is planning to finance using a 1-year loan with an interest rate of `12%` per annum. Both loans are paid back in EMIs. What is the total monthly payment Shaun makes towards loan repayment?\n",
    "\n",
    "This question is now straightforward to solve, using the `loan_emi` function we've already defined."
   ]
  },
  {
   "cell_type": "code",
   "execution_count": null,
   "metadata": {},
   "outputs": [],
   "source": [
    "cost_of_house = 800000\n",
    "home_loan_duration = 6*12 # months\n",
    "home_loan_rate = 0.07/12 # monthly\n",
    "home_down_payment = .25 * 800000\n",
    "\n",
    "emi_house = loan_emi(amount=cost_of_house,\n",
    "                     duration=home_loan_duration,\n",
    "                     rate=home_loan_rate, \n",
    "                     down_payment=home_down_payment)\n",
    "\n",
    "emi_house"
   ]
  },
  {
   "cell_type": "code",
   "execution_count": null,
   "metadata": {},
   "outputs": [],
   "source": [
    "cost_of_car = 60000\n",
    "car_loan_duration = 1*12 # months\n",
    "car_loan_rate = .12/12 # monthly\n",
    "\n",
    "emi_car = loan_emi(amount=cost_of_car, \n",
    "                   duration=car_loan_duration, \n",
    "                   rate=car_loan_rate)\n",
    "\n",
    "emi_car"
   ]
  },
  {
   "cell_type": "code",
   "execution_count": null,
   "metadata": {},
   "outputs": [],
   "source": [
    "print(\"Shaun makes a total monthly payment of ${} towards loan repayments.\".format(emi_house+emi_car))"
   ]
  },
  {
   "cell_type": "markdown",
   "metadata": {},
   "source": [
    "### Exceptions and `try`-`except`\n",
    "\n",
    "> Q: If you borrow `$100,000` using a 10-year loan with an interest rate of 9% per annum, what is the total amount you end up paying as interest?\n",
    "\n",
    "One way to solve this problem is to compare the EMIs for two loans: one with the given rate of interest, and another with a 0% rate of interest. The total interest paid is then simply the sum of monthly differences over the duration of the loan."
   ]
  },
  {
   "cell_type": "code",
   "execution_count": null,
   "metadata": {},
   "outputs": [],
   "source": [
    "amt = input(\"Please enter some amount: \")\n",
    "total = 0\n",
    "try:\n",
    "    total += int(amt) / 12\n",
    "    print(total)\n",
    "except:\n",
    "    print(\"error happend\")\n",
    "    print(f\"Printing initial value of total: {total}\")\n",
    "    \n",
    "    "
   ]
  },
  {
   "cell_type": "code",
   "execution_count": null,
   "metadata": {},
   "outputs": [],
   "source": [
    "emi_with_interest = loan_emi(amount=100000, duration=10*12, rate=0.09/12)\n",
    "emi_with_interest"
   ]
  },
  {
   "cell_type": "code",
   "execution_count": null,
   "metadata": {},
   "outputs": [],
   "source": [
    "emi_without_interest = loan_emi(amount=100000, duration=10*12, rate=0./12)\n",
    "emi_without_interest"
   ]
  },
  {
   "cell_type": "markdown",
   "metadata": {},
   "source": [
    "Something seems to have gone wrong! If you look at the error message above carefully, Python tells us exactly what is gone wrong. Python *throws* a `ZeroDivisionError` with a message indicating that we're trying to divide a number by zero. This is an *exception* that stops further execution of the program.\n",
    "\n",
    "> **Exception**: Even if a statement or expression is syntactically correct, it may cause an error when an attempt is made to execute it. Errors detected during execution are called exceptions. We refer to exceptions as being typically stop further execution of the program, unless they are handled within the program using `try`-`except` statements.\n",
    "\n",
    "Python provides many built-in exceptions that are *thrown* when built-in operators, functions or methods are used in an incorrect manner: https://docs.python.org/3/library/exceptions.html#built-in-exceptions . You can also define your own custom exception by extending `Exception` class (more on that later).\n",
    "\n",
    "You can use the `try` and `except` statements to *handle* and exception. Here's an example:"
   ]
  },
  {
   "cell_type": "code",
   "execution_count": null,
   "metadata": {},
   "outputs": [],
   "source": [
    "print(\"Now computing the result..\")\n",
    "result = 5 / 0\n",
    "print(\"Computation was completed successfully\")"
   ]
  },
  {
   "cell_type": "code",
   "execution_count": null,
   "metadata": {},
   "outputs": [],
   "source": [
    "try:\n",
    "    print(\"Now computing the result..\")\n",
    "    result = 5 / 0\n",
    "    print(\"Computation was completed successfully\")\n",
    "except ZeroDivisionError:\n",
    "    print(\"Failed to compute result because you were trying to divide by zero\")\n",
    "    result = None\n",
    "\n",
    "print(result)"
   ]
  },
  {
   "cell_type": "markdown",
   "metadata": {},
   "source": [
    "When an exception occurs in the code inside a `try` block, the rest of the statements in the block are skipped, and `except` statement is executed. If the type of exception throw matches the type of exception being handled by the `except` statement, then the code inside the `except` block is executed and the program execution then returns to the normal flow. \n",
    "\n",
    "You can also handle more than one type of exception using multiple `except` statements. Learn more about exceptions here: https://www.w3schools.com/python/python_try_except.asp .\n",
    "\n",
    "Let's enhance the `loan_emi` function to use `try`-`execpt` to handle the scenario where the rate of intersest is 0%. It's common practice to make changes/enhancements to functions over time, as new scenarios and use cases come up. It makes functions more flexible & powerful."
   ]
  },
  {
   "cell_type": "code",
   "execution_count": null,
   "metadata": {},
   "outputs": [],
   "source": [
    "import math\n",
    "def loan_emi(amount, duration, rate, down_payment=0):\n",
    "    loan_amount = amount - down_payment\n",
    "    try:\n",
    "        emi = loan_amount * rate * ((1+rate)**duration) / (((1+rate)**duration)-1)\n",
    "    except ZeroDivisionError:\n",
    "        emi = loan_amount / duration\n",
    "    emi = math.ceil(emi)\n",
    "    return emi"
   ]
  },
  {
   "cell_type": "markdown",
   "metadata": {},
   "source": [
    "We can use the updated `loan_emi` function to solve our problem.\n",
    "\n",
    "> Q: If you borrow `$100,000` using a 10-year loan with an interest rate of 9% per annum, what is the total amount you end up paying as interest?\n",
    "\n"
   ]
  },
  {
   "cell_type": "code",
   "execution_count": null,
   "metadata": {},
   "outputs": [],
   "source": [
    "emi_with_interest = loan_emi(amount=100000, duration=10*12, rate=0.09/12)\n",
    "emi_with_interest"
   ]
  },
  {
   "cell_type": "code",
   "execution_count": null,
   "metadata": {},
   "outputs": [],
   "source": [
    "emi_without_interest = loan_emi(amount=100000, duration=10*12, rate=0)\n",
    "emi_without_interest"
   ]
  },
  {
   "cell_type": "code",
   "execution_count": null,
   "metadata": {},
   "outputs": [],
   "source": [
    "total_interest = (emi_with_interest - emi_without_interest) * 10*12"
   ]
  },
  {
   "cell_type": "code",
   "execution_count": null,
   "metadata": {},
   "outputs": [],
   "source": [
    "print(\"The total interest paid is ${}.\".format(total_interest))"
   ]
  },
  {
   "cell_type": "code",
   "execution_count": null,
   "metadata": {
    "scrolled": true
   },
   "outputs": [],
   "source": [
    "help(loan_emi)"
   ]
  },
  {
   "cell_type": "markdown",
   "metadata": {},
   "source": [
    "### Documenting functions using Docstrings\n",
    "\n",
    "We can add some documentation within our function using a *docstring*. A docstring is simply a string that appears as the first statement within the function body, and is used by the `help` function. A good docstring describes what the function does, and provides some explanation about the arguments."
   ]
  },
  {
   "cell_type": "code",
   "execution_count": 63,
   "metadata": {},
   "outputs": [
    {
     "name": "stdout",
     "output_type": "stream",
     "text": [
      "Overwriting CalculateEMI.py\n"
     ]
    }
   ],
   "source": [
    "%%file CalculateEMI.py\n",
    "\n",
    "def loan_emi(amount, duration, rate, down_payment=0):\n",
    "    \"\"\"Calculates the equal montly installment (EMI) for a loan.\n",
    "    \n",
    "    Arguments:\n",
    "        amount - Total amount to be spent (loan + down payment)\n",
    "        duration - Duration of the loan (in months)\n",
    "        rate - Rate of interest (monthly)\n",
    "        down_payment (optional) - Optional intial payment (deducted from amount)\n",
    "    \"\"\"\n",
    "    import math\n",
    "    loan_amount = amount - down_payment\n",
    "    try:\n",
    "        emi = loan_amount * rate * ((1+rate)**duration) / (((1+rate)**duration)-1)\n",
    "    except ZeroDivisionError:\n",
    "        emi = loan_amount / duration\n",
    "    emi = math.ceil(emi)\n",
    "    return emi"
   ]
  },
  {
   "cell_type": "code",
   "execution_count": null,
   "metadata": {},
   "outputs": [],
   "source": [
    "# loan_emi(amount=80000, duration=10*12, rate=0.09/12)"
   ]
  },
  {
   "cell_type": "code",
   "execution_count": 1,
   "metadata": {},
   "outputs": [
    {
     "ename": "NameError",
     "evalue": "name 'loan_emi' is not defined",
     "output_type": "error",
     "traceback": [
      "\u001b[1;31m---------------------------------------------------------------------------\u001b[0m",
      "\u001b[1;31mNameError\u001b[0m                                 Traceback (most recent call last)",
      "Input \u001b[1;32mIn [1]\u001b[0m, in \u001b[0;36m<cell line: 1>\u001b[1;34m()\u001b[0m\n\u001b[1;32m----> 1\u001b[0m help(\u001b[43mloan_emi\u001b[49m)\n",
      "\u001b[1;31mNameError\u001b[0m: name 'loan_emi' is not defined"
     ]
    }
   ],
   "source": [
    "# help(loan_emi)"
   ]
  },
  {
   "cell_type": "code",
   "execution_count": 2,
   "metadata": {},
   "outputs": [],
   "source": [
    "import CalculateEMI"
   ]
  },
  {
   "cell_type": "code",
   "execution_count": 3,
   "metadata": {},
   "outputs": [
    {
     "data": {
      "text/plain": [
       "1014"
      ]
     },
     "execution_count": 3,
     "metadata": {},
     "output_type": "execute_result"
    }
   ],
   "source": [
    "CalculateEMI.loan_emi(amount=80000, duration=10*12, rate=0.09/12)"
   ]
  },
  {
   "cell_type": "markdown",
   "metadata": {},
   "source": [
    "In the docstring above, we've provided some additional information that the `duration` and `rate` are both measured in months. You might even consider naming the arguments `duration_months` and `rate_monthly`, to avoid any confusion whatsoever. Can you think of some other ways in which the function can be improved?"
   ]
  },
  {
   "cell_type": "code",
   "execution_count": 4,
   "metadata": {},
   "outputs": [],
   "source": [
    "from CalculateEMI import loan_emi"
   ]
  },
  {
   "cell_type": "code",
   "execution_count": 5,
   "metadata": {},
   "outputs": [
    {
     "name": "stdout",
     "output_type": "stream",
     "text": [
      "Help on function loan_emi in module CalculateEMI:\n",
      "\n",
      "loan_emi(amount, duration, rate, down_payment=0)\n",
      "    Calculates the equal montly installment (EMI) for a loan.\n",
      "    \n",
      "    Arguments:\n",
      "        amount - Total amount to be spent (loan + down payment)\n",
      "        duration - Duration of the loan (in months)\n",
      "        rate - Rate of interest (monthly)\n",
      "        down_payment (optional) - Optional intial payment (deducted from amount)\n",
      "\n"
     ]
    }
   ],
   "source": [
    "help(loan_emi)"
   ]
  },
  {
   "cell_type": "code",
   "execution_count": null,
   "metadata": {},
   "outputs": [],
   "source": [
    "# help(print)"
   ]
  },
  {
   "cell_type": "markdown",
   "metadata": {},
   "source": [
    "## Exercise - Data Analysis for Vacation Planning\n",
    "\n",
    "You're planning a leisure trip (vacation) and you need to decide which city you want to visit. You have shortlisted 4 cities, and identified the cost of the return flight, daily hotel cost and a weekly car rental cost (a car has to be rented for full weeks, even if you return the car before a week ends).\n",
    "\n",
    "\n",
    "| City | Return Flight (`$`) | Hotel per day (`$`) | Weekly Car Rental  (`$`) | \n",
    "|------|--------------------------|------------------|------------------------|\n",
    "| Paris|       200                |       20         |          200           |\n",
    "| London|      250                |       30         |          120           |\n",
    "| Dubai|       370                |       15         |          80           |\n",
    "| Mumbai|      450                |       10         |          70           |         \n",
    "\n",
    "\n",
    "Answer the following questions using the data above:\n",
    "\n",
    "1. If you're planning a 1-week long trip, which city should you visit to spend the least amount of money?\n",
    "2. How does the answer to the previous question change if you change the duration of the trip to 4 days, 10 days or 2 weeks?\n",
    "3. If your total budget for the trip is `$1000`, which city should you visit to maximize the duration of your trip? Which city should you visit if you want to minimize the duration?\n",
    "4. How does the answer to the previous question change if your budget is `$600`, `$2000` or `$1500`?\n",
    "\n",
    "*Hint: To answer these questions, it will help to define a function `cost_of_trip` with relevant inputs like flight cost, hotel rate, car rental rate and duration of the trip. You may find the `math.ceil` function useful for calculating the total cost of car rental.*"
   ]
  },
  {
   "cell_type": "code",
   "execution_count": 6,
   "metadata": {},
   "outputs": [],
   "source": [
    "# Use these cells to answer the question - build the function step-by-step\n",
    "paris_dict = dict(city=\"Paris\", cost_return_flight=200, cost_hotel_per_night=20, cost_car_rental_weekly=200)\n",
    "london_dict = dict(city=\"London\", cost_return_flight=250, cost_hotel_per_night=30, cost_car_rental_weekly=120)\n",
    "dubai_dict = dict(city=\"Dubai\", cost_return_flight=370, cost_hotel_per_night=15, cost_car_rental_weekly=80)\n",
    "mumbai_dict = dict(city=\"Mumbai\", cost_return_flight=450, cost_hotel_per_night=10, cost_car_rental_weekly=70)"
   ]
  },
  {
   "cell_type": "code",
   "execution_count": 7,
   "metadata": {},
   "outputs": [
    {
     "data": {
      "text/plain": [
       "{'city': 'Paris',\n",
       " 'cost_return_flight': 200,\n",
       " 'cost_hotel_per_night': 20,\n",
       " 'cost_car_rental_weekly': 200}"
      ]
     },
     "execution_count": 7,
     "metadata": {},
     "output_type": "execute_result"
    }
   ],
   "source": [
    "paris_dict"
   ]
  },
  {
   "cell_type": "code",
   "execution_count": 8,
   "metadata": {},
   "outputs": [
    {
     "data": {
      "text/plain": [
       "{'city': 'London',\n",
       " 'cost_return_flight': 250,\n",
       " 'cost_hotel_per_night': 30,\n",
       " 'cost_car_rental_weekly': 120}"
      ]
     },
     "execution_count": 8,
     "metadata": {},
     "output_type": "execute_result"
    }
   ],
   "source": [
    "london_dict"
   ]
  },
  {
   "cell_type": "code",
   "execution_count": null,
   "metadata": {},
   "outputs": [],
   "source": [
    "# import math\n",
    "\n",
    "# help(math)"
   ]
  },
  {
   "cell_type": "code",
   "execution_count": 12,
   "metadata": {},
   "outputs": [],
   "source": [
    "def spend_least_amount(city_dict, days=7):\n",
    "    import math\n",
    "    weeks = math.ceil(days / 7)\n",
    "    \n",
    "    total_spent = city_dict['cost_return_flight'] + (city_dict['cost_hotel_per_night']*days) +\\\n",
    "                    city_dict['cost_car_rental_weekly'] * weeks\n",
    "        \n",
    "    return total_spent"
   ]
  },
  {
   "cell_type": "code",
   "execution_count": 13,
   "metadata": {},
   "outputs": [
    {
     "data": {
      "text/plain": [
       "540"
      ]
     },
     "execution_count": 13,
     "metadata": {},
     "output_type": "execute_result"
    }
   ],
   "source": [
    "spend_least_amount(paris_dict, days=7)"
   ]
  },
  {
   "cell_type": "code",
   "execution_count": 14,
   "metadata": {},
   "outputs": [],
   "source": [
    "city = [paris_dict, london_dict, dubai_dict, mumbai_dict]"
   ]
  },
  {
   "cell_type": "code",
   "execution_count": 21,
   "metadata": {},
   "outputs": [
    {
     "name": "stdout",
     "output_type": "stream",
     "text": [
      "[(540, 'Paris'), (580, 'London'), (555, 'Dubai'), (590, 'Mumbai')]\n"
     ]
    }
   ],
   "source": [
    "all_spent = []\n",
    "for city_dict in city:\n",
    "    total_spent = spend_least_amount(city_dict)\n",
    "    all_spent.append((total_spent, city_dict['city']))\n",
    "    \n",
    "print(all_spent)    "
   ]
  },
  {
   "cell_type": "code",
   "execution_count": 22,
   "metadata": {},
   "outputs": [
    {
     "data": {
      "text/plain": [
       "(540, 'Paris')"
      ]
     },
     "execution_count": 22,
     "metadata": {},
     "output_type": "execute_result"
    }
   ],
   "source": [
    "min(all_spent)"
   ]
  },
  {
   "cell_type": "code",
   "execution_count": 24,
   "metadata": {},
   "outputs": [],
   "source": [
    "def spend_least_amount_days(days):\n",
    "    all_spent_days = []\n",
    "    for city_dict in city:\n",
    "        total_spent = spend_least_amount(city_dict, days)\n",
    "        all_spent_days.append((total_spent, city_dict['city'], days))\n",
    "\n",
    "    return all_spent_days"
   ]
  },
  {
   "cell_type": "code",
   "execution_count": 27,
   "metadata": {},
   "outputs": [
    {
     "data": {
      "text/plain": [
       "[(880, 'Paris', 14),\n",
       " (910, 'London', 14),\n",
       " (740, 'Dubai', 14),\n",
       " (730, 'Mumbai', 14)]"
      ]
     },
     "execution_count": 27,
     "metadata": {},
     "output_type": "execute_result"
    }
   ],
   "source": [
    "spend_least_amount_days(14)"
   ]
  },
  {
   "cell_type": "code",
   "execution_count": 28,
   "metadata": {},
   "outputs": [],
   "source": [
    "def budget_constraint_trip(city_dict, budget=1000, day=1):\n",
    "    # total spent for 1 day\n",
    "    day = 1\n",
    "    total_spent = 0\n",
    "    while total_spent < budget:\n",
    "        total_spent = spend_least_amount(city_dict, days=day)\n",
    "        day += 1\n",
    "        \n",
    "    return city_dict['city'], day\n",
    "    # budget spent is > budget or < budget"
   ]
  },
  {
   "cell_type": "code",
   "execution_count": 29,
   "metadata": {},
   "outputs": [
    {
     "data": {
      "text/plain": [
       "('Paris', 16)"
      ]
     },
     "execution_count": 29,
     "metadata": {},
     "output_type": "execute_result"
    }
   ],
   "source": [
    "budget_constraint_trip(paris_dict)"
   ]
  },
  {
   "cell_type": "code",
   "execution_count": 30,
   "metadata": {},
   "outputs": [
    {
     "data": {
      "text/plain": [
       "[('Paris', 16), ('London', 16), ('Dubai', 23), ('Mumbai', 28)]"
      ]
     },
     "execution_count": 30,
     "metadata": {},
     "output_type": "execute_result"
    }
   ],
   "source": [
    "total_days = []\n",
    "for city_dict in city:\n",
    "    total_day = budget_constraint_trip(city_dict)\n",
    "    total_days.append(total_day)\n",
    "    \n",
    "total_days"
   ]
  },
  {
   "cell_type": "code",
   "execution_count": 31,
   "metadata": {},
   "outputs": [
    {
     "data": {
      "text/plain": [
       "[(('Paris', 9), 600),\n",
       " (('London', 9), 600),\n",
       " (('Dubai', 9), 600),\n",
       " (('Mumbai', 9), 600),\n",
       " (('Paris', 37), 2000),\n",
       " (('London', 37), 2000),\n",
       " (('Dubai', 62), 2000),\n",
       " (('Mumbai', 79), 2000),\n",
       " (('Paris', 26), 1500),\n",
       " (('London', 27), 1500),\n",
       " (('Dubai', 44), 1500),\n",
       " (('Mumbai', 51), 1500)]"
      ]
     },
     "execution_count": 31,
     "metadata": {},
     "output_type": "execute_result"
    }
   ],
   "source": [
    "# for different budget\n",
    "budget_list = [600, 2000, 1500]\n",
    "\n",
    "total_days = []\n",
    "for budget in budget_list:\n",
    "    for city_dict in city:\n",
    "        total_day = budget_constraint_trip(city_dict, budget=budget)\n",
    "        total_days.append((total_day, budget))\n",
    "\n",
    "total_days"
   ]
  },
  {
   "cell_type": "code",
   "execution_count": 32,
   "metadata": {},
   "outputs": [],
   "source": [
    "# Use these cells to answer the question - build the function step-by-step\n",
    "paris_dict = dict(city=\"Paris\", cost_return_flight=200, cost_hotel_per_night=20, cost_car_rental_weekly=200)\n",
    "london_dict = dict(city=\"London\", cost_return_flight=250, cost_hotel_per_night=30, cost_car_rental_weekly=120)\n",
    "dubai_dict = dict(city=\"Dubai\", cost_return_flight=370, cost_hotel_per_night=15, cost_car_rental_weekly=80)\n",
    "mumbai_dict = dict(city=\"Mumbai\", cost_return_flight=450, cost_hotel_per_night=10, cost_car_rental_weekly=70)"
   ]
  },
  {
   "cell_type": "code",
   "execution_count": 33,
   "metadata": {},
   "outputs": [],
   "source": [
    "def def_total_trip_cost_duration(city_dict, trip_duration = 7, trip_budget = 0):\n",
    "    cost_return_flight = city_dict[\"cost_return_flight\"]\n",
    "    cost_hotel_per_night = city_dict[\"cost_hotel_per_night\"]\n",
    "    cost_car_rental_weekly = city_dict[\"cost_car_rental_weekly\"]\n",
    "    \n",
    "    total_trip_cost = 0\n",
    "    total_hotel_cost = 0\n",
    "    total_car_rental = 0\n",
    "    total_trip_duration_days = 0\n",
    "    total_trip_duration_weeks = 0\n",
    "    remaining_budget = 0\n",
    "    \n",
    "    total_trip_cost += cost_return_flight\n",
    "    \n",
    "    if(not trip_budget):\n",
    "        total_hotel_cost = cost_hotel_per_night * trip_duration\n",
    "        total_trip_duration_weeks = (trip_duration // 7) if (trip_duration % 7 == 0) else (trip_duration // 7 + 1)\n",
    "        total_car_rental = cost_car_rental_weekly * total_trip_duration_weeks\n",
    "        total_trip_cost += (total_hotel_cost + total_car_rental)\n",
    "        total_trip_duration_days = trip_duration\n",
    "    else:\n",
    "        remaining_budget = trip_budget - total_trip_cost\n",
    "        total_cost_per_week = (cost_car_rental_weekly + (cost_hotel_per_night * 7))\n",
    "        total_trip_duration_weeks = (remaining_budget // total_cost_per_week)\n",
    "        total_trip_cost += (total_cost_per_week * total_trip_duration_weeks)\n",
    "        remaining_budget = trip_budget - total_trip_cost\n",
    "        total_trip_duration_days = total_trip_duration_weeks * 7\n",
    "        \n",
    "        if (remaining_budget >= (cost_car_rental_weekly + cost_hotel_per_night)):\n",
    "            total_trip_duration_weeks += 1\n",
    "            total_trip_cost += cost_car_rental_weekly\n",
    "            remaining_budget = trip_budget - total_trip_cost\n",
    "            remaining_days = remaining_budget // cost_hotel_per_night\n",
    "            total_trip_cost += (cost_hotel_per_night * remaining_days)\n",
    "            total_trip_duration_days += remaining_days            \n",
    "            \n",
    "    return (city_dict['city'],total_trip_cost, total_trip_duration_days, total_trip_duration_weeks)"
   ]
  },
  {
   "cell_type": "code",
   "execution_count": 34,
   "metadata": {},
   "outputs": [
    {
     "name": "stdout",
     "output_type": "stream",
     "text": [
      "('Paris', 1140, 17, 3)\n",
      "('London', 1150, 18, 3)\n",
      "('Dubai', 1110, 28, 4)\n",
      "('Mumbai', 1150, 35, 5)\n"
     ]
    }
   ],
   "source": [
    "for city_dict in city:\n",
    "    total_trip_cost_def = def_total_trip_cost_duration(city_dict, trip_budget = 1150)\n",
    "    print(total_trip_cost_def)"
   ]
  },
  {
   "cell_type": "code",
   "execution_count": 35,
   "metadata": {},
   "outputs": [
    {
     "name": "stdout",
     "output_type": "stream",
     "text": [
      "('Paris', 1140, 17, 3)\n",
      "('London', 910, 14, 2)\n",
      "('Dubai', 850, 16, 3)\n",
      "('Mumbai', 1430, 49, 7)\n"
     ]
    }
   ],
   "source": [
    "paris_total_trip_cost = def_total_trip_cost_duration(city_dict = paris_dict, trip_budget = 1150)\n",
    "london_total_trip_cost = def_total_trip_cost_duration(city_dict = london_dict, trip_duration = 14)\n",
    "dubai_total_trip_cost = def_total_trip_cost_duration(city_dict = dubai_dict, trip_duration = 16)\n",
    "mumbai_total_trip_cost = def_total_trip_cost_duration(city_dict = mumbai_dict, trip_budget = 1500)\n",
    "print(paris_total_trip_cost)\n",
    "print(london_total_trip_cost)\n",
    "print(dubai_total_trip_cost)\n",
    "print(mumbai_total_trip_cost)"
   ]
  },
  {
   "cell_type": "code",
   "execution_count": null,
   "metadata": {},
   "outputs": [],
   "source": []
  },
  {
   "cell_type": "code",
   "execution_count": null,
   "metadata": {},
   "outputs": [],
   "source": []
  },
  {
   "cell_type": "markdown",
   "metadata": {},
   "source": [
    "## Summary and Further Reading\n",
    "\n",
    "With this we complete our discussion of functions in Python. We've covered the following topics in this tutorial:\n",
    "\n",
    "* Creating and using functions\n",
    "* Functions with one or more arguments\n",
    "* Local variables and scope\n",
    "* Returning values using `return`\n",
    "* Using default arguments to make a function flexible\n",
    "* Using named arguments while invoking a function\n",
    "* Importing modules and using library functions\n",
    "* Reusing and improving functions to handle new use cases\n",
    "* Handling exceptions with `try`-`except`\n",
    "* Documenting functions using docstrings\n",
    "\n",
    "This is by no means an exhaustive or comprehensive tutorial on functions in Python. Here are few more topics to learn about:\n",
    "\n",
    "* Functions with an arbitrary number of arguments using (`*args` and `**kwargs`)\n",
    "* Defining functions inside functions (and closures)\n",
    "* A function that invokes itself (recursion)\n",
    "* Functions that accept other functions as arguments or return other functions\n",
    "* Functions that enhance other functions (decorators)\n",
    "\n",
    "Following are some resources to learn about more functions in Python:\n",
    "\n",
    "* Python Tutorial at W3Schools: https://www.w3schools.com/python/\n",
    "* Practical Python Programming: https://dabeaz-course.github.io/practical-python/Notes/Contents.html\n",
    "* Python official documentation: https://docs.python.org/3/tutorial/index.html\n",
    "\n"
   ]
  },
  {
   "cell_type": "code",
   "execution_count": null,
   "metadata": {},
   "outputs": [],
   "source": []
  }
 ],
 "metadata": {
  "kernelspec": {
   "display_name": "Python 3 (ipykernel)",
   "language": "python",
   "name": "python3"
  },
  "language_info": {
   "codemirror_mode": {
    "name": "ipython",
    "version": 3
   },
   "file_extension": ".py",
   "mimetype": "text/x-python",
   "name": "python",
   "nbconvert_exporter": "python",
   "pygments_lexer": "ipython3",
   "version": "3.9.12"
  }
 },
 "nbformat": 4,
 "nbformat_minor": 4
}
